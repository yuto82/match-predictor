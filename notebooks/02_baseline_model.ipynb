{
 "cells": [
  {
   "cell_type": "code",
   "execution_count": null,
   "id": "aa329f1f",
   "metadata": {},
   "outputs": [],
   "source": [
    "import pandas as pd\n",
    "from sklearn.model_selection import train_test_split\n",
    "from sklearn.ensemble import RandomForestClassifier\n",
    "from sklearn.metrics import classification_report, accuracy_score\n",
    "\n",
    "# 1. Load the CSV file into a pandas DataFrame\n",
    "# This reads the raw football match data for the 2024-2025 season.\n",
    "df = pd.read_csv('../data/raw/E0_2024-2025.csv')\n",
    "\n",
    "# 2. Encode categorical variables (teams) as numerical codes\n",
    "# Machine learning models require numeric inputs.\n",
    "# Each unique team name is converted to a unique integer code.\n",
    "df['HomeTeam_encoded'] = df['HomeTeam'].astype('category').cat.codes\n",
    "df['AwayTeam_encoded'] = df['AwayTeam'].astype('category').cat.codes"
   ]
  },
  {
   "cell_type": "code",
   "execution_count": null,
   "id": "05c51ef6",
   "metadata": {},
   "outputs": [],
   "source": [
    "# 3. Define features and target variable\n",
    "# Features (X) are the encoded home and away teams.\n",
    "# Target variable (y) is the match result ('FTR': H/D/A).\n",
    "features = ['HomeTeam_encoded', 'AwayTeam_encoded']\n",
    "X = df[features]\n",
    "y = df['FTR']"
   ]
  },
  {
   "cell_type": "code",
   "execution_count": null,
   "id": "65bef5a4",
   "metadata": {},
   "outputs": [],
   "source": [
    "# 4. Split the dataset into training and testing sets\n",
    "# 80% of data is used for training, 20% for testing.\n",
    "# random_state ensures reproducibility.\n",
    "X_train, X_test, y_train, y_test = train_test_split(\n",
    "    X, y, test_size=0.2, random_state=42\n",
    ")"
   ]
  },
  {
   "cell_type": "code",
   "execution_count": null,
   "id": "b81091e9",
   "metadata": {},
   "outputs": [],
   "source": [
    "# 5. Initialize the Random Forest Classifier\n",
    "# Random Forest is an ensemble method using multiple decision trees.\n",
    "model = RandomForestClassifier(random_state=42)"
   ]
  },
  {
   "cell_type": "code",
   "execution_count": null,
   "id": "c5b46aa7",
   "metadata": {},
   "outputs": [],
   "source": [
    "# 6. Train the model on the training data\n",
    "model.fit(X_train, y_train)"
   ]
  },
  {
   "cell_type": "code",
   "execution_count": null,
   "id": "2ae5610a",
   "metadata": {},
   "outputs": [],
   "source": [
    "# 7. Make predictions on the test set\n",
    "predictions = model.predict(X_test)"
   ]
  },
  {
   "cell_type": "code",
   "execution_count": null,
   "id": "53e517c5",
   "metadata": {},
   "outputs": [],
   "source": [
    "# 8. Evaluate model performance\n",
    "# Accuracy: proportion of correct predictions.\n",
    "# classification_report: detailed metrics for each class (H, D, A)\n",
    "accuracy = accuracy_score(y_test, predictions)\n",
    "print(f\"Accuracy: {accuracy:.3f}\")\n",
    "print(\"\\nClassification Report:\")\n",
    "print(classification_report(y_test, predictions))"
   ]
  }
 ],
 "metadata": {
  "kernelspec": {
   "display_name": ".venv (3.13.4)",
   "language": "python",
   "name": "python3"
  },
  "language_info": {
   "codemirror_mode": {
    "name": "ipython",
    "version": 3
   },
   "file_extension": ".py",
   "mimetype": "text/x-python",
   "name": "python",
   "nbconvert_exporter": "python",
   "pygments_lexer": "ipython3",
   "version": "3.13.4"
  }
 },
 "nbformat": 4,
 "nbformat_minor": 5
}
